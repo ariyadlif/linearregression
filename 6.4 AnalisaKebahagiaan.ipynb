{
 "cells": [
  {
   "cell_type": "code",
   "execution_count": 7,
   "metadata": {},
   "outputs": [],
   "source": [
    "import numpy as np\n",
    "import matplotlib.pyplot as plt\n",
    "import pandas as pd\n",
    "import seaborn as sns\n",
    "from sklearn.linear_model import LinearRegression\n",
    "from sklearn import linear_model"
   ]
  },
  {
   "cell_type": "code",
   "execution_count": 10,
   "metadata": {},
   "outputs": [
    {
     "data": {
      "text/html": [
       "<div>\n",
       "<style scoped>\n",
       "    .dataframe tbody tr th:only-of-type {\n",
       "        vertical-align: middle;\n",
       "    }\n",
       "\n",
       "    .dataframe tbody tr th {\n",
       "        vertical-align: top;\n",
       "    }\n",
       "\n",
       "    .dataframe thead th {\n",
       "        text-align: right;\n",
       "    }\n",
       "</style>\n",
       "<table border=\"1\" class=\"dataframe\">\n",
       "  <thead>\n",
       "    <tr style=\"text-align: right;\">\n",
       "      <th></th>\n",
       "      <th>bulan</th>\n",
       "      <th>stasiun_pengisian_bahanbakar</th>\n",
       "      <th>jenis_bahanbakar</th>\n",
       "      <th>jumlah_penjualan</th>\n",
       "      <th>penerimaan_pajak</th>\n",
       "    </tr>\n",
       "  </thead>\n",
       "  <tbody>\n",
       "    <tr>\n",
       "      <td>0</td>\n",
       "      <td>1</td>\n",
       "      <td>Pertamina</td>\n",
       "      <td>Bio Solar</td>\n",
       "      <td>55232675</td>\n",
       "      <td>16813838145</td>\n",
       "    </tr>\n",
       "    <tr>\n",
       "      <td>1</td>\n",
       "      <td>1</td>\n",
       "      <td>Pertamina</td>\n",
       "      <td>Solar</td>\n",
       "      <td>13531625</td>\n",
       "      <td>4631822667</td>\n",
       "    </tr>\n",
       "    <tr>\n",
       "      <td>2</td>\n",
       "      <td>1</td>\n",
       "      <td>Pertamina</td>\n",
       "      <td>Premium</td>\n",
       "      <td>148118500</td>\n",
       "      <td>46128488066</td>\n",
       "    </tr>\n",
       "    <tr>\n",
       "      <td>3</td>\n",
       "      <td>1</td>\n",
       "      <td>Pertamina</td>\n",
       "      <td>Pertalite</td>\n",
       "      <td>0</td>\n",
       "      <td>0</td>\n",
       "    </tr>\n",
       "    <tr>\n",
       "      <td>4</td>\n",
       "      <td>1</td>\n",
       "      <td>Pertamina</td>\n",
       "      <td>Pertamax</td>\n",
       "      <td>35750000</td>\n",
       "      <td>13041124794</td>\n",
       "    </tr>\n",
       "    <tr>\n",
       "      <td>...</td>\n",
       "      <td>...</td>\n",
       "      <td>...</td>\n",
       "      <td>...</td>\n",
       "      <td>...</td>\n",
       "      <td>...</td>\n",
       "    </tr>\n",
       "    <tr>\n",
       "      <td>151</td>\n",
       "      <td>12</td>\n",
       "      <td>Pertamina</td>\n",
       "      <td>Pertamax Racing</td>\n",
       "      <td>1000</td>\n",
       "      <td>2456522</td>\n",
       "    </tr>\n",
       "    <tr>\n",
       "      <td>152</td>\n",
       "      <td>12</td>\n",
       "      <td>Pertamina</td>\n",
       "      <td>BBG</td>\n",
       "      <td>66491</td>\n",
       "      <td>522521962</td>\n",
       "    </tr>\n",
       "    <tr>\n",
       "      <td>153</td>\n",
       "      <td>12</td>\n",
       "      <td>Total</td>\n",
       "      <td>Performance 92</td>\n",
       "      <td>808000</td>\n",
       "      <td>307719640</td>\n",
       "    </tr>\n",
       "    <tr>\n",
       "      <td>154</td>\n",
       "      <td>12</td>\n",
       "      <td>Total</td>\n",
       "      <td>Performance 95</td>\n",
       "      <td>184000</td>\n",
       "      <td>80281420</td>\n",
       "    </tr>\n",
       "    <tr>\n",
       "      <td>155</td>\n",
       "      <td>12</td>\n",
       "      <td>Total</td>\n",
       "      <td>Diesel</td>\n",
       "      <td>80000</td>\n",
       "      <td>34331008</td>\n",
       "    </tr>\n",
       "  </tbody>\n",
       "</table>\n",
       "<p>156 rows × 5 columns</p>\n",
       "</div>"
      ],
      "text/plain": [
       "     bulan stasiun_pengisian_bahanbakar jenis_bahanbakar  jumlah_penjualan  \\\n",
       "0        1                    Pertamina        Bio Solar          55232675   \n",
       "1        1                    Pertamina            Solar          13531625   \n",
       "2        1                    Pertamina          Premium         148118500   \n",
       "3        1                    Pertamina        Pertalite                 0   \n",
       "4        1                    Pertamina         Pertamax          35750000   \n",
       "..     ...                          ...              ...               ...   \n",
       "151     12                    Pertamina  Pertamax Racing              1000   \n",
       "152     12                    Pertamina              BBG             66491   \n",
       "153     12                        Total   Performance 92            808000   \n",
       "154     12                        Total   Performance 95            184000   \n",
       "155     12                        Total           Diesel             80000   \n",
       "\n",
       "     penerimaan_pajak  \n",
       "0         16813838145  \n",
       "1          4631822667  \n",
       "2         46128488066  \n",
       "3                   0  \n",
       "4         13041124794  \n",
       "..                ...  \n",
       "151           2456522  \n",
       "152         522521962  \n",
       "153         307719640  \n",
       "154          80281420  \n",
       "155          34331008  \n",
       "\n",
       "[156 rows x 5 columns]"
      ]
     },
     "execution_count": 10,
     "metadata": {},
     "output_type": "execute_result"
    }
   ],
   "source": [
    "pertamina = pd.read_csv('pandas.csv')\n",
    "pertamina"
   ]
  },
  {
   "cell_type": "code",
   "execution_count": 11,
   "metadata": {},
   "outputs": [
    {
     "data": {
      "text/plain": [
       "<seaborn.axisgrid.FacetGrid at 0x1fe7b151a48>"
      ]
     },
     "execution_count": 11,
     "metadata": {},
     "output_type": "execute_result"
    },
    {
     "data": {
      "image/png": "[encoded data removed]",
      "text/plain": [
       "<Figure size 1296x216 with 1 Axes>"
      ]
     },
     "metadata": {
      "needs_background": "light"
     },
     "output_type": "display_data"
    }
   ],
   "source": [
    "sns.catplot(x='jenis_bahanbakar', y='jumlah_penjualan', data=pertamina, kind='bar', height=3, aspect=6)"
   ]
  },
  {
   "cell_type": "code",
   "execution_count": 12,
   "metadata": {},
   "outputs": [
    {
     "data": {
      "text/plain": [
       "array([ 1,  1,  1,  1,  1,  1,  1,  1,  1,  1,  1,  1,  1,  2,  2,  2,  2,\n",
       "        2,  2,  2,  2,  2,  2,  2,  2,  2,  3,  3,  3,  3,  3,  3,  3,  3,\n",
       "        3,  3,  3,  3,  3,  4,  4,  4,  4,  4,  4,  4,  4,  4,  4,  4,  4,\n",
       "        4,  5,  5,  5,  5,  5,  5,  5,  5,  5,  5,  5,  5,  5,  6,  6,  6,\n",
       "        6,  6,  6,  6,  6,  6,  6,  6,  6,  6,  7,  7,  7,  7,  7,  7,  7,\n",
       "        7,  7,  7,  7,  7,  7,  8,  8,  8,  8,  8,  8,  8,  8,  8,  8,  8,\n",
       "        8,  8,  9,  9,  9,  9,  9,  9,  9,  9,  9,  9,  9,  9,  9, 10, 10,\n",
       "       10, 10, 10, 10, 10, 10, 10, 10, 10, 10, 10, 11, 11, 11, 11, 11, 11,\n",
       "       11, 11, 11, 11, 11, 11, 11, 12, 12, 12, 12, 12, 12, 12, 12, 12, 12,\n",
       "       12, 12, 12], dtype=int64)"
      ]
     },
     "execution_count": 12,
     "metadata": {},
     "output_type": "execute_result"
    }
   ],
   "source": [
    "y = pertamina.iloc[:, 0]. values\n",
    "x = pertamina.iloc[:, 3]. values\n",
    "\n",
    "y"
   ]
  },
  {
   "cell_type": "code",
   "execution_count": 31,
   "metadata": {},
   "outputs": [
    {
     "data": {
      "image/png": "[encoded data removed]",
      "text/plain": [
       "<Figure size 1440x360 with 1 Axes>"
      ]
     },
     "metadata": {
      "needs_background": "light"
     },
     "output_type": "display_data"
    }
   ],
   "source": [
    "plt.figure(figsize=(20,5))\n",
    "plt.scatter(x, y, color = 'blue')\n",
    "plt.title('penjualan')\n",
    "plt.xlabel('jumlah penjualan')\n",
    "plt.ylabel('bulan')\n",
    "plt.show()"
   ]
  },
  {
   "cell_type": "code",
   "execution_count": 32,
   "metadata": {},
   "outputs": [],
   "source": [
    "from sklearn.model_selection import train_test_split\n",
    "X_train, X_test, y_train, y_test = train_test_split(x, y, test_size = 0.10, random_state = 0)"
   ]
  },
  {
   "cell_type": "code",
   "execution_count": 37,
   "metadata": {},
   "outputs": [
    {
     "data": {
      "text/plain": [
       "bulan                           0\n",
       "stasiun_pengisian_bahanbakar    0\n",
       "jenis_bahanbakar                0\n",
       "jumlah_penjualan                0\n",
       "penerimaan_pajak                0\n",
       "dtype: int64"
      ]
     },
     "execution_count": 37,
     "metadata": {},
     "output_type": "execute_result"
    }
   ],
   "source": [
    "\n",
    "\n",
    "# from sklearn.linear_model import LinearRegression\n",
    "# regressor = LinearRegression()\n",
    "# regressor.fit(X_train, y_train)\n",
    "pertamina.isnull().sum()\n",
    "\n"
   ]
  },
  {
   "cell_type": "code",
   "execution_count": 39,
   "metadata": {},
   "outputs": [
    {
     "data": {
      "text/html": [
       "<div>\n",
       "<style scoped>\n",
       "    .dataframe tbody tr th:only-of-type {\n",
       "        vertical-align: middle;\n",
       "    }\n",
       "\n",
       "    .dataframe tbody tr th {\n",
       "        vertical-align: top;\n",
       "    }\n",
       "\n",
       "    .dataframe thead th {\n",
       "        text-align: right;\n",
       "    }\n",
       "</style>\n",
       "<table border=\"1\" class=\"dataframe\">\n",
       "  <thead>\n",
       "    <tr style=\"text-align: right;\">\n",
       "      <th></th>\n",
       "      <th>bulan</th>\n",
       "      <th>stasiun_pengisian_bahanbakar</th>\n",
       "      <th>jenis_bahanbakar</th>\n",
       "      <th>jumlah_penjualan</th>\n",
       "      <th>penerimaan_pajak</th>\n",
       "    </tr>\n",
       "  </thead>\n",
       "  <tbody>\n",
       "    <tr>\n",
       "      <td>0</td>\n",
       "      <td>1</td>\n",
       "      <td>Pertamina</td>\n",
       "      <td>Bio Solar</td>\n",
       "      <td>55232675</td>\n",
       "      <td>16813838145</td>\n",
       "    </tr>\n",
       "    <tr>\n",
       "      <td>1</td>\n",
       "      <td>1</td>\n",
       "      <td>Pertamina</td>\n",
       "      <td>Solar</td>\n",
       "      <td>13531625</td>\n",
       "      <td>4631822667</td>\n",
       "    </tr>\n",
       "    <tr>\n",
       "      <td>2</td>\n",
       "      <td>1</td>\n",
       "      <td>Pertamina</td>\n",
       "      <td>Premium</td>\n",
       "      <td>148118500</td>\n",
       "      <td>46128488066</td>\n",
       "    </tr>\n",
       "    <tr>\n",
       "      <td>3</td>\n",
       "      <td>1</td>\n",
       "      <td>Pertamina</td>\n",
       "      <td>Pertalite</td>\n",
       "      <td>0</td>\n",
       "      <td>0</td>\n",
       "    </tr>\n",
       "    <tr>\n",
       "      <td>4</td>\n",
       "      <td>1</td>\n",
       "      <td>Pertamina</td>\n",
       "      <td>Pertamax</td>\n",
       "      <td>35750000</td>\n",
       "      <td>13041124794</td>\n",
       "    </tr>\n",
       "    <tr>\n",
       "      <td>...</td>\n",
       "      <td>...</td>\n",
       "      <td>...</td>\n",
       "      <td>...</td>\n",
       "      <td>...</td>\n",
       "      <td>...</td>\n",
       "    </tr>\n",
       "    <tr>\n",
       "      <td>151</td>\n",
       "      <td>12</td>\n",
       "      <td>Pertamina</td>\n",
       "      <td>Pertamax Racing</td>\n",
       "      <td>1000</td>\n",
       "      <td>2456522</td>\n",
       "    </tr>\n",
       "    <tr>\n",
       "      <td>152</td>\n",
       "      <td>12</td>\n",
       "      <td>Pertamina</td>\n",
       "      <td>BBG</td>\n",
       "      <td>66491</td>\n",
       "      <td>522521962</td>\n",
       "    </tr>\n",
       "    <tr>\n",
       "      <td>153</td>\n",
       "      <td>12</td>\n",
       "      <td>Total</td>\n",
       "      <td>Performance 92</td>\n",
       "      <td>808000</td>\n",
       "      <td>307719640</td>\n",
       "    </tr>\n",
       "    <tr>\n",
       "      <td>154</td>\n",
       "      <td>12</td>\n",
       "      <td>Total</td>\n",
       "      <td>Performance 95</td>\n",
       "      <td>184000</td>\n",
       "      <td>80281420</td>\n",
       "    </tr>\n",
       "    <tr>\n",
       "      <td>155</td>\n",
       "      <td>12</td>\n",
       "      <td>Total</td>\n",
       "      <td>Diesel</td>\n",
       "      <td>80000</td>\n",
       "      <td>34331008</td>\n",
       "    </tr>\n",
       "  </tbody>\n",
       "</table>\n",
       "<p>156 rows × 5 columns</p>\n",
       "</div>"
      ],
      "text/plain": [
       "     bulan stasiun_pengisian_bahanbakar jenis_bahanbakar  jumlah_penjualan  \\\n",
       "0        1                    Pertamina        Bio Solar          55232675   \n",
       "1        1                    Pertamina            Solar          13531625   \n",
       "2        1                    Pertamina          Premium         148118500   \n",
       "3        1                    Pertamina        Pertalite                 0   \n",
       "4        1                    Pertamina         Pertamax          35750000   \n",
       "..     ...                          ...              ...               ...   \n",
       "151     12                    Pertamina  Pertamax Racing              1000   \n",
       "152     12                    Pertamina              BBG             66491   \n",
       "153     12                        Total   Performance 92            808000   \n",
       "154     12                        Total   Performance 95            184000   \n",
       "155     12                        Total           Diesel             80000   \n",
       "\n",
       "     penerimaan_pajak  \n",
       "0         16813838145  \n",
       "1          4631822667  \n",
       "2         46128488066  \n",
       "3                   0  \n",
       "4         13041124794  \n",
       "..                ...  \n",
       "151           2456522  \n",
       "152         522521962  \n",
       "153         307719640  \n",
       "154          80281420  \n",
       "155          34331008  \n",
       "\n",
       "[156 rows x 5 columns]"
      ]
     },
     "execution_count": 39,
     "metadata": {},
     "output_type": "execute_result"
    }
   ],
   "source": [
    "pertaminaFix = pertamina.dropna()\n",
    "pertaminaFix"
   ]
  },
  {
   "cell_type": "code",
   "execution_count": 43,
   "metadata": {},
   "outputs": [
    {
     "data": {
      "text/plain": [
       "bulan                           0\n",
       "stasiun_pengisian_bahanbakar    0\n",
       "jenis_bahanbakar                0\n",
       "jumlah_penjualan                0\n",
       "penerimaan_pajak                0\n",
       "dtype: int64"
      ]
     },
     "execution_count": 43,
     "metadata": {},
     "output_type": "execute_result"
    }
   ],
   "source": [
    "pertaminaFix.isnull().sum()"
   ]
  },
  {
   "cell_type": "code",
   "execution_count": 44,
   "metadata": {},
   "outputs": [
    {
     "name": "stdout",
     "output_type": "stream",
     "text": [
      "koefisien : [[-262882.67196461]]\n",
      "Intersep:  [22241811.14558788]\n"
     ]
    }
   ],
   "source": [
    "msk = np.random.rand(len(pertamina)) < 0.8\n",
    "train = pertamina[msk]\n",
    "test = pertamina[~msk]\n",
    "\n",
    "regr = linear_model.LinearRegression()\n",
    "train_x = np.asanyarray(train[['bulan']])\n",
    "train_y = np.asanyarray(train[['jumlah_penjualan']])\n",
    "regr.fit (train_x, train_y)\n",
    "print ('koefisien :', regr.coef_)\n",
    "print ('Intersep: ', regr.intercept_)"
   ]
  },
  {
   "cell_type": "code",
   "execution_count": 46,
   "metadata": {},
   "outputs": [
    {
     "data": {
      "text/plain": [
       "Text(0, 0.5, 'jumlah penjualan')"
      ]
     },
     "execution_count": 46,
     "metadata": {},
     "output_type": "execute_result"
    },
    {
     "data": {
      "image/png": "[encoded data removed]",
      "text/plain": [
       "<Figure size 1440x360 with 1 Axes>"
      ]
     },
     "metadata": {
      "needs_background": "light"
     },
     "output_type": "display_data"
    }
   ],
   "source": [
    "plt.figure(figsize=(20,5))\n",
    "plt.scatter(train[['bulan']], train[['jumlah_penjualan']], color='blue')\n",
    "plt.plot(train_x, regr.coef_[0][0]*train_x + regr.intercept_[0], '-r')\n",
    "plt.xlabel(\"bulan\")\n",
    "plt.ylabel(\"jumlah penjualan\")"
   ]
  },
  {
   "cell_type": "code",
   "execution_count": null,
   "metadata": {},
   "outputs": [],
   "source": []
  }
 ],
 "metadata": {
  "kernelspec": {
   "display_name": "Python 3",
   "language": "python",
   "name": "python3"
  },
  "language_info": {
   "codemirror_mode": {
    "name": "ipython",
    "version": 3
   },
   "file_extension": ".py",
   "mimetype": "text/x-python",
   "name": "python",
   "nbconvert_exporter": "python",
   "pygments_lexer": "ipython3",
   "version": "3.7.4"
  }
 },
 "nbformat": 4,
 "nbformat_minor": 2
}
